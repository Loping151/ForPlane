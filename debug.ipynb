{
 "cells": [
  {
   "cell_type": "code",
   "execution_count": 7,
   "metadata": {},
   "outputs": [],
   "source": [
    "import torch\n",
    "from lpips import LPIPS\n",
    "import warnings\n",
    "warnings.filterwarnings(\"ignore\", category=UserWarning) \n",
    "\n",
    "lpips_alex = LPIPS(net='alex', verbose=False) # best forward scores\n",
    "lpips_vgg = LPIPS(net='vgg', verbose=False) # closer to \"traditional\" perceptual loss, when used for optimization\n"
   ]
  },
  {
   "cell_type": "code",
   "execution_count": 9,
   "metadata": {},
   "outputs": [
    {
     "name": "stderr",
     "output_type": "stream",
     "text": [
      "Lossy conversion from float64 to uint8. Range [-4.8368502086423515, 5.066040623875308]. Convert image to uint8 prior to saving to suppress this warning.\n",
      "Lossy conversion from float64 to uint8. Range [-4.8368502086423515, 5.066040623875308]. Convert image to uint8 prior to saving to suppress this warning.\n",
      "Lossy conversion from float64 to uint8. Range [-4.8368502086423515, 5.066040623875308]. Convert image to uint8 prior to saving to suppress this warning.\n",
      "Lossy conversion from float64 to uint8. Range [-4.8368502086423515, 5.066040623875308]. Convert image to uint8 prior to saving to suppress this warning.\n",
      "Lossy conversion from float64 to uint8. Range [-4.8368502086423515, 5.066040623875308]. Convert image to uint8 prior to saving to suppress this warning.\n",
      "Lossy conversion from float64 to uint8. Range [-4.8368502086423515, 5.066040623875308]. Convert image to uint8 prior to saving to suppress this warning.\n",
      "Lossy conversion from float64 to uint8. Range [-4.8368502086423515, 5.066040623875308]. Convert image to uint8 prior to saving to suppress this warning.\n",
      "Lossy conversion from float64 to uint8. Range [-4.8368502086423515, 5.066040623875308]. Convert image to uint8 prior to saving to suppress this warning.\n",
      "Lossy conversion from float64 to uint8. Range [-4.8368502086423515, 5.066040623875308]. Convert image to uint8 prior to saving to suppress this warning.\n",
      "Lossy conversion from float64 to uint8. Range [-4.8368502086423515, 5.066040623875308]. Convert image to uint8 prior to saving to suppress this warning.\n",
      "Lossy conversion from float64 to uint8. Range [-4.8368502086423515, 5.066040623875308]. Convert image to uint8 prior to saving to suppress this warning.\n",
      "Lossy conversion from float64 to uint8. Range [-4.8368502086423515, 5.066040623875308]. Convert image to uint8 prior to saving to suppress this warning.\n",
      "Lossy conversion from float64 to uint8. Range [-4.8368502086423515, 5.066040623875308]. Convert image to uint8 prior to saving to suppress this warning.\n",
      "Lossy conversion from float64 to uint8. Range [-4.8368502086423515, 5.066040623875308]. Convert image to uint8 prior to saving to suppress this warning.\n",
      "Lossy conversion from float64 to uint8. Range [-4.8368502086423515, 5.066040623875308]. Convert image to uint8 prior to saving to suppress this warning.\n",
      "Lossy conversion from float64 to uint8. Range [-4.8368502086423515, 5.066040623875308]. Convert image to uint8 prior to saving to suppress this warning.\n",
      "Lossy conversion from float64 to uint8. Range [-4.8368502086423515, 5.066040623875308]. Convert image to uint8 prior to saving to suppress this warning.\n",
      "Lossy conversion from float64 to uint8. Range [-4.8368502086423515, 5.066040623875308]. Convert image to uint8 prior to saving to suppress this warning.\n",
      "Lossy conversion from float64 to uint8. Range [-4.8368502086423515, 5.066040623875308]. Convert image to uint8 prior to saving to suppress this warning.\n",
      "Lossy conversion from float64 to uint8. Range [-4.8368502086423515, 5.066040623875308]. Convert image to uint8 prior to saving to suppress this warning.\n",
      "Lossy conversion from float64 to uint8. Range [-4.8368502086423515, 5.066040623875308]. Convert image to uint8 prior to saving to suppress this warning.\n",
      "Lossy conversion from float64 to uint8. Range [-4.8368502086423515, 5.066040623875308]. Convert image to uint8 prior to saving to suppress this warning.\n",
      "Lossy conversion from float64 to uint8. Range [-4.8368502086423515, 5.066040623875308]. Convert image to uint8 prior to saving to suppress this warning.\n",
      "Lossy conversion from float64 to uint8. Range [-4.8368502086423515, 5.066040623875308]. Convert image to uint8 prior to saving to suppress this warning.\n",
      "Lossy conversion from float64 to uint8. Range [-4.8368502086423515, 5.066040623875308]. Convert image to uint8 prior to saving to suppress this warning.\n",
      "Lossy conversion from float64 to uint8. Range [-4.8368502086423515, 5.066040623875308]. Convert image to uint8 prior to saving to suppress this warning.\n",
      "Lossy conversion from float64 to uint8. Range [-4.8368502086423515, 5.066040623875308]. Convert image to uint8 prior to saving to suppress this warning.\n",
      "Lossy conversion from float64 to uint8. Range [-4.8368502086423515, 5.066040623875308]. Convert image to uint8 prior to saving to suppress this warning.\n",
      "Lossy conversion from float64 to uint8. Range [-4.8368502086423515, 5.066040623875308]. Convert image to uint8 prior to saving to suppress this warning.\n",
      "Lossy conversion from float64 to uint8. Range [-4.8368502086423515, 5.066040623875308]. Convert image to uint8 prior to saving to suppress this warning.\n",
      "Lossy conversion from float64 to uint8. Range [-4.8368502086423515, 5.066040623875308]. Convert image to uint8 prior to saving to suppress this warning.\n",
      "Lossy conversion from float64 to uint8. Range [-4.8368502086423515, 5.066040623875308]. Convert image to uint8 prior to saving to suppress this warning.\n",
      "Lossy conversion from float64 to uint8. Range [-4.8368502086423515, 5.066040623875308]. Convert image to uint8 prior to saving to suppress this warning.\n",
      "Lossy conversion from float64 to uint8. Range [-4.8368502086423515, 5.066040623875308]. Convert image to uint8 prior to saving to suppress this warning.\n",
      "Lossy conversion from float64 to uint8. Range [-4.8368502086423515, 5.066040623875308]. Convert image to uint8 prior to saving to suppress this warning.\n",
      "Lossy conversion from float64 to uint8. Range [-4.8368502086423515, 5.066040623875308]. Convert image to uint8 prior to saving to suppress this warning.\n",
      "Lossy conversion from float64 to uint8. Range [-4.8368502086423515, 5.066040623875308]. Convert image to uint8 prior to saving to suppress this warning.\n",
      "Lossy conversion from float64 to uint8. Range [-4.8368502086423515, 5.066040623875308]. Convert image to uint8 prior to saving to suppress this warning.\n",
      "Lossy conversion from float64 to uint8. Range [-4.8368502086423515, 5.066040623875308]. Convert image to uint8 prior to saving to suppress this warning.\n",
      "Lossy conversion from float64 to uint8. Range [-4.8368502086423515, 5.066040623875308]. Convert image to uint8 prior to saving to suppress this warning.\n",
      "Lossy conversion from float64 to uint8. Range [-4.8368502086423515, 5.066040623875308]. Convert image to uint8 prior to saving to suppress this warning.\n",
      "Lossy conversion from float64 to uint8. Range [-4.8368502086423515, 5.066040623875308]. Convert image to uint8 prior to saving to suppress this warning.\n",
      "Lossy conversion from float64 to uint8. Range [-4.8368502086423515, 5.066040623875308]. Convert image to uint8 prior to saving to suppress this warning.\n",
      "Lossy conversion from float64 to uint8. Range [-4.8368502086423515, 5.066040623875308]. Convert image to uint8 prior to saving to suppress this warning.\n",
      "Lossy conversion from float64 to uint8. Range [-4.8368502086423515, 5.066040623875308]. Convert image to uint8 prior to saving to suppress this warning.\n",
      "Lossy conversion from float64 to uint8. Range [-4.8368502086423515, 5.066040623875308]. Convert image to uint8 prior to saving to suppress this warning.\n",
      "Lossy conversion from float64 to uint8. Range [-4.8368502086423515, 5.066040623875308]. Convert image to uint8 prior to saving to suppress this warning.\n",
      "Lossy conversion from float64 to uint8. Range [-4.8368502086423515, 5.066040623875308]. Convert image to uint8 prior to saving to suppress this warning.\n",
      "Lossy conversion from float64 to uint8. Range [-4.8368502086423515, 5.066040623875308]. Convert image to uint8 prior to saving to suppress this warning.\n",
      "Lossy conversion from float64 to uint8. Range [-4.8368502086423515, 5.066040623875308]. Convert image to uint8 prior to saving to suppress this warning.\n",
      "Lossy conversion from float64 to uint8. Range [-4.8368502086423515, 5.066040623875308]. Convert image to uint8 prior to saving to suppress this warning.\n",
      "Lossy conversion from float64 to uint8. Range [-4.8368502086423515, 5.066040623875308]. Convert image to uint8 prior to saving to suppress this warning.\n",
      "Lossy conversion from float64 to uint8. Range [-4.8368502086423515, 5.066040623875308]. Convert image to uint8 prior to saving to suppress this warning.\n",
      "Lossy conversion from float64 to uint8. Range [-4.8368502086423515, 5.066040623875308]. Convert image to uint8 prior to saving to suppress this warning.\n",
      "Lossy conversion from float64 to uint8. Range [-4.8368502086423515, 5.066040623875308]. Convert image to uint8 prior to saving to suppress this warning.\n",
      "Lossy conversion from float64 to uint8. Range [-4.8368502086423515, 5.066040623875308]. Convert image to uint8 prior to saving to suppress this warning.\n",
      "Lossy conversion from float64 to uint8. Range [-4.8368502086423515, 5.066040623875308]. Convert image to uint8 prior to saving to suppress this warning.\n",
      "Lossy conversion from float64 to uint8. Range [-4.8368502086423515, 5.066040623875308]. Convert image to uint8 prior to saving to suppress this warning.\n",
      "Lossy conversion from float64 to uint8. Range [-4.8368502086423515, 5.066040623875308]. Convert image to uint8 prior to saving to suppress this warning.\n",
      "Lossy conversion from float64 to uint8. Range [-4.8368502086423515, 5.066040623875308]. Convert image to uint8 prior to saving to suppress this warning.\n",
      "Lossy conversion from float64 to uint8. Range [-4.8368502086423515, 5.066040623875308]. Convert image to uint8 prior to saving to suppress this warning.\n",
      "Lossy conversion from float64 to uint8. Range [-4.8368502086423515, 5.066040623875308]. Convert image to uint8 prior to saving to suppress this warning.\n",
      "Lossy conversion from float64 to uint8. Range [-4.8368502086423515, 5.066040623875308]. Convert image to uint8 prior to saving to suppress this warning.\n",
      "Lossy conversion from float64 to uint8. Range [-4.8368502086423515, 5.066040623875308]. Convert image to uint8 prior to saving to suppress this warning.\n",
      "Lossy conversion from float64 to uint8. Range [-4.8368502086423515, 5.066040623875308]. Convert image to uint8 prior to saving to suppress this warning.\n",
      "Lossy conversion from float64 to uint8. Range [-4.8368502086423515, 5.066040623875308]. Convert image to uint8 prior to saving to suppress this warning.\n",
      "Lossy conversion from float64 to uint8. Range [-4.8368502086423515, 5.066040623875308]. Convert image to uint8 prior to saving to suppress this warning.\n",
      "Lossy conversion from float64 to uint8. Range [-4.8368502086423515, 5.066040623875308]. Convert image to uint8 prior to saving to suppress this warning.\n",
      "Lossy conversion from float64 to uint8. Range [-4.8368502086423515, 5.066040623875308]. Convert image to uint8 prior to saving to suppress this warning.\n",
      "Lossy conversion from float64 to uint8. Range [-4.8368502086423515, 5.066040623875308]. Convert image to uint8 prior to saving to suppress this warning.\n",
      "Lossy conversion from float64 to uint8. Range [-4.8368502086423515, 5.066040623875308]. Convert image to uint8 prior to saving to suppress this warning.\n",
      "Lossy conversion from float64 to uint8. Range [-4.8368502086423515, 5.066040623875308]. Convert image to uint8 prior to saving to suppress this warning.\n",
      "Lossy conversion from float64 to uint8. Range [-4.8368502086423515, 5.066040623875308]. Convert image to uint8 prior to saving to suppress this warning.\n",
      "Lossy conversion from float64 to uint8. Range [-4.8368502086423515, 5.066040623875308]. Convert image to uint8 prior to saving to suppress this warning.\n",
      "Lossy conversion from float64 to uint8. Range [-4.8368502086423515, 5.066040623875308]. Convert image to uint8 prior to saving to suppress this warning.\n",
      "Lossy conversion from float64 to uint8. Range [-4.8368502086423515, 5.066040623875308]. Convert image to uint8 prior to saving to suppress this warning.\n",
      "Lossy conversion from float64 to uint8. Range [-4.8368502086423515, 5.066040623875308]. Convert image to uint8 prior to saving to suppress this warning.\n",
      "Lossy conversion from float64 to uint8. Range [-4.8368502086423515, 5.066040623875308]. Convert image to uint8 prior to saving to suppress this warning.\n",
      "Lossy conversion from float64 to uint8. Range [-4.8368502086423515, 5.066040623875308]. Convert image to uint8 prior to saving to suppress this warning.\n",
      "Lossy conversion from float64 to uint8. Range [-4.8368502086423515, 5.066040623875308]. Convert image to uint8 prior to saving to suppress this warning.\n",
      "Lossy conversion from float64 to uint8. Range [-4.8368502086423515, 5.066040623875308]. Convert image to uint8 prior to saving to suppress this warning.\n",
      "Lossy conversion from float64 to uint8. Range [-4.8368502086423515, 5.066040623875308]. Convert image to uint8 prior to saving to suppress this warning.\n",
      "Lossy conversion from float64 to uint8. Range [-4.8368502086423515, 5.066040623875308]. Convert image to uint8 prior to saving to suppress this warning.\n",
      "Lossy conversion from float64 to uint8. Range [-4.8368502086423515, 5.066040623875308]. Convert image to uint8 prior to saving to suppress this warning.\n",
      "Lossy conversion from float64 to uint8. Range [-4.8368502086423515, 5.066040623875308]. Convert image to uint8 prior to saving to suppress this warning.\n",
      "Lossy conversion from float64 to uint8. Range [-4.8368502086423515, 5.066040623875308]. Convert image to uint8 prior to saving to suppress this warning.\n",
      "Lossy conversion from float64 to uint8. Range [-4.8368502086423515, 5.066040623875308]. Convert image to uint8 prior to saving to suppress this warning.\n",
      "Lossy conversion from float64 to uint8. Range [-4.8368502086423515, 5.066040623875308]. Convert image to uint8 prior to saving to suppress this warning.\n",
      "Lossy conversion from float64 to uint8. Range [-4.8368502086423515, 5.066040623875308]. Convert image to uint8 prior to saving to suppress this warning.\n",
      "Lossy conversion from float64 to uint8. Range [-4.8368502086423515, 5.066040623875308]. Convert image to uint8 prior to saving to suppress this warning.\n",
      "Lossy conversion from float64 to uint8. Range [-4.8368502086423515, 5.066040623875308]. Convert image to uint8 prior to saving to suppress this warning.\n",
      "Lossy conversion from float64 to uint8. Range [-4.8368502086423515, 5.066040623875308]. Convert image to uint8 prior to saving to suppress this warning.\n",
      "Lossy conversion from float64 to uint8. Range [-4.8368502086423515, 5.066040623875308]. Convert image to uint8 prior to saving to suppress this warning.\n",
      "Lossy conversion from float64 to uint8. Range [-4.8368502086423515, 5.066040623875308]. Convert image to uint8 prior to saving to suppress this warning.\n",
      "Lossy conversion from float64 to uint8. Range [-4.8368502086423515, 5.066040623875308]. Convert image to uint8 prior to saving to suppress this warning.\n",
      "Lossy conversion from float64 to uint8. Range [-4.8368502086423515, 5.066040623875308]. Convert image to uint8 prior to saving to suppress this warning.\n",
      "Lossy conversion from float64 to uint8. Range [-4.8368502086423515, 5.066040623875308]. Convert image to uint8 prior to saving to suppress this warning.\n",
      "Lossy conversion from float64 to uint8. Range [-4.8368502086423515, 5.066040623875308]. Convert image to uint8 prior to saving to suppress this warning.\n",
      "Lossy conversion from float64 to uint8. Range [-4.8368502086423515, 5.066040623875308]. Convert image to uint8 prior to saving to suppress this warning.\n",
      "Lossy conversion from float64 to uint8. Range [-4.8368502086423515, 5.066040623875308]. Convert image to uint8 prior to saving to suppress this warning.\n"
     ]
    },
    {
     "name": "stdout",
     "output_type": "stream",
     "text": [
      "5.669831275939941\n"
     ]
    }
   ],
   "source": [
    "import cv2\n",
    "import imageio\n",
    "import numpy as np\n",
    "import time\n",
    "tmp = np.random.randn(512,640,3)\n",
    "tmp = (tmp-np.min(tmp))/np.max(tmp)\n",
    "st = time.time()\n",
    "for _ in range(100):\n",
    "    imageio.imwrite('tmp.png',tmp)\n",
    "print(time.time()-st)"
   ]
  },
  {
   "cell_type": "code",
   "execution_count": 4,
   "metadata": {},
   "outputs": [],
   "source": [
    "import torch\n",
    "a = torch.randn([1000,1000, 3]).float().cuda()\n",
    "b = torch.randn([1000,1000,3]).float().cuda()"
   ]
  },
  {
   "cell_type": "code",
   "execution_count": 5,
   "metadata": {},
   "outputs": [
    {
     "data": {
      "text/plain": [
       "0.4819173812866211"
      ]
     },
     "execution_count": 5,
     "metadata": {},
     "output_type": "execute_result"
    }
   ],
   "source": [
    "import time\n",
    "\n",
    "t0 = time.time()\n",
    "torch.cuda.synchronize()\n",
    "for i in range(10000):\n",
    "    _ = a*b\n",
    "torch.cuda.synchronize()\n",
    "t1 = time.time()\n",
    "t1-t0"
   ]
  },
  {
   "cell_type": "code",
   "execution_count": 7,
   "metadata": {},
   "outputs": [
    {
     "data": {
      "text/plain": [
       "0.44594645500183105"
      ]
     },
     "execution_count": 7,
     "metadata": {},
     "output_type": "execute_result"
    }
   ],
   "source": [
    "t0 = time.time()\n",
    "torch.cuda.synchronize()\n",
    "for i in range(10000):\n",
    "    _ = torch.mul(a, b)\n",
    "torch.cuda.synchronize()\n",
    "t1 = time.time()\n",
    "t1-t0"
   ]
  },
  {
   "cell_type": "code",
   "execution_count": null,
   "metadata": {},
   "outputs": [],
   "source": [
    "t0 = time.time()\n",
    "torch.cuda.synchronize()\n",
    "for i in range(10000):\n",
    "    temp = torch.empty_like(a)\n",
    "torch.cuda.synchronize()\n",
    "t1 = time.time()\n",
    "t1-t0"
   ]
  },
  {
   "cell_type": "code",
   "execution_count": 50,
   "metadata": {},
   "outputs": [
    {
     "name": "stdout",
     "output_type": "stream",
     "text": [
      "305 matrix multiplications took 4.077495098114014s\n"
     ]
    }
   ],
   "source": [
    "import time\n",
    "import torch\n",
    "from torch.profiler import profile, record_function, ProfilerActivity\n",
    "\n",
    "# 随机生成两个大矩阵\n",
    "matrix_1 = torch.randn(2048, 2048, dtype=torch.float32)  \n",
    "matrix_2 = torch.randn(2048, 2048, dtype=torch.float32)  \n",
    "\n",
    "# 将矩阵移至GPU   \n",
    "matrix_1 = matrix_1.cuda()\n",
    "matrix_2 = matrix_2.cuda()\n",
    "\n",
    "# 初始化计时器\n",
    "start = time.time()  \n",
    "\n",
    "# 执行305次矩阵乘法 \n",
    "# with profile(activities=[ProfilerActivity.CPU, ProfilerActivity.CUDA]) as prof:\n",
    "for i in range(3170):\n",
    "    result = torch.matmul(matrix_1, matrix_2)\n",
    "\n",
    "# 结束计时并打印时间  \n",
    "end = time.time()  \n",
    "print(f\"305 matrix multiplications took {end - start}s\")\n",
    "# print(prof.key_averages(group_by_stack_n=8).table(sort_by=\"self_cuda_time_total\", row_limit=20,max_name_column_width=1000))"
   ]
  },
  {
   "cell_type": "code",
   "execution_count": 7,
   "metadata": {},
   "outputs": [
    {
     "name": "stdout",
     "output_type": "stream",
     "text": [
      "Renamed 000007_depth.png to 000007.png\n",
      "Renamed 000020_depth.png to 000020.png\n",
      "Renamed 000073_depth.png to 000073.png\n",
      "Renamed 000004_depth.png to 000004.png\n",
      "Renamed 000045_depth.png to 000045.png\n",
      "Renamed 000026_depth.png to 000026.png\n",
      "Renamed 000024_depth.png to 000024.png\n",
      "Renamed 000000_depth.png to 000000.png\n",
      "Renamed 000029_depth.png to 000029.png\n",
      "Renamed 000082_depth.png to 000082.png\n",
      "Renamed 000078_depth.png to 000078.png\n",
      "Renamed 000061_depth.png to 000061.png\n",
      "Renamed 000021_depth.png to 000021.png\n",
      "Renamed 000068_depth.png to 000068.png\n",
      "Renamed 000047_depth.png to 000047.png\n",
      "Renamed 000051_depth.png to 000051.png\n",
      "Renamed 000005_depth.png to 000005.png\n",
      "Renamed 000036_depth.png to 000036.png\n",
      "Renamed 000053_depth.png to 000053.png\n",
      "Renamed 000066_depth.png to 000066.png\n",
      "Renamed 000002_depth.png to 000002.png\n",
      "Renamed 000058_depth.png to 000058.png\n",
      "Renamed 000042_depth.png to 000042.png\n",
      "Renamed 000025_depth.png to 000025.png\n",
      "Renamed 000015_depth.png to 000015.png\n",
      "Renamed 000084_depth.png to 000084.png\n",
      "Renamed 000048_depth.png to 000048.png\n",
      "Renamed 000010_depth.png to 000010.png\n",
      "Renamed 000074_depth.png to 000074.png\n",
      "Renamed 000057_depth.png to 000057.png\n",
      "Renamed 000030_depth.png to 000030.png\n",
      "Renamed 000070_depth.png to 000070.png\n",
      "Renamed 000055_depth.png to 000055.png\n",
      "Renamed 000008_depth.png to 000008.png\n",
      "Renamed 000071_depth.png to 000071.png\n",
      "Renamed 000028_depth.png to 000028.png\n",
      "Renamed 000023_depth.png to 000023.png\n",
      "Renamed 000013_depth.png to 000013.png\n",
      "Renamed 000043_depth.png to 000043.png\n",
      "Renamed 000075_depth.png to 000075.png\n",
      "Renamed 000064_depth.png to 000064.png\n",
      "Renamed 000031_depth.png to 000031.png\n",
      "Renamed 000081_depth.png to 000081.png\n",
      "Renamed 000044_depth.png to 000044.png\n",
      "Renamed 000009_depth.png to 000009.png\n",
      "Renamed 000079_depth.png to 000079.png\n",
      "Renamed 000076_depth.png to 000076.png\n",
      "Renamed 000014_depth.png to 000014.png\n",
      "Renamed 000032_depth.png to 000032.png\n",
      "Renamed 000033_depth.png to 000033.png\n",
      "Renamed 000065_depth.png to 000065.png\n",
      "Renamed 000077_depth.png to 000077.png\n",
      "Renamed 000006_depth.png to 000006.png\n",
      "Renamed 000062_depth.png to 000062.png\n",
      "Renamed 000012_depth.png to 000012.png\n",
      "Renamed 000019_depth.png to 000019.png\n",
      "Renamed 000069_depth.png to 000069.png\n",
      "Renamed 000018_depth.png to 000018.png\n",
      "Renamed 000016_depth.png to 000016.png\n",
      "Renamed 000059_depth.png to 000059.png\n",
      "Renamed 000046_depth.png to 000046.png\n",
      "Renamed 000038_depth.png to 000038.png\n",
      "Renamed 000049_depth.png to 000049.png\n",
      "Renamed 000052_depth.png to 000052.png\n",
      "Renamed 000063_depth.png to 000063.png\n",
      "Renamed 000060_depth.png to 000060.png\n",
      "Renamed 000085_depth.png to 000085.png\n",
      "Renamed 000017_depth.png to 000017.png\n",
      "Renamed 000083_depth.png to 000083.png\n",
      "Renamed 000050_depth.png to 000050.png\n",
      "Renamed 000022_depth.png to 000022.png\n",
      "Renamed 000080_depth.png to 000080.png\n",
      "Renamed 000056_depth.png to 000056.png\n",
      "Renamed 000067_depth.png to 000067.png\n",
      "Renamed 000003_depth.png to 000003.png\n",
      "Renamed 000037_depth.png to 000037.png\n",
      "Renamed 000041_depth.png to 000041.png\n",
      "Renamed 000035_depth.png to 000035.png\n",
      "Renamed 000040_depth.png to 000040.png\n",
      "Renamed 000001_depth.png to 000001.png\n",
      "Renamed 000027_depth.png to 000027.png\n",
      "Renamed 000039_depth.png to 000039.png\n",
      "Renamed 000054_depth.png to 000054.png\n",
      "Renamed 000072_depth.png to 000072.png\n",
      "Renamed 000011_depth.png to 000011.png\n",
      "Renamed 000034_depth.png to 000034.png\n"
     ]
    }
   ],
   "source": [
    "import os\n",
    "\n",
    "def rename_files(directory):\n",
    "    for filename in os.listdir(directory):\n",
    "        if filename.endswith('.png') and 'depth' in filename:  # 仅处理以 .txt 扩展名结尾的文件\n",
    "            new_filename = filename.replace('_depth', '')  # 删除文件名中的最后6个字符\n",
    "            new_path = os.path.join(directory, new_filename)\n",
    "            old_path = os.path.join(directory, filename)\n",
    "            os.rename(old_path, new_path)\n",
    "            print(f\"Renamed {filename} to {new_filename}\")\n",
    "\n",
    "# 示例用法\n",
    "directory = \"/home/yangchen/projects/kplanes-endo/data/endonerf_full_datasets/traction/mono_depth\"  # 文件所在的目录路径\n",
    "\n",
    "# 执行批量改名操作\n",
    "rename_files(directory)\n"
   ]
  }
 ],
 "metadata": {
  "kernelspec": {
   "display_name": "ngp",
   "language": "python",
   "name": "python3"
  },
  "language_info": {
   "codemirror_mode": {
    "name": "ipython",
    "version": 3
   },
   "file_extension": ".py",
   "mimetype": "text/x-python",
   "name": "python",
   "nbconvert_exporter": "python",
   "pygments_lexer": "ipython3",
   "version": "3.9.16"
  },
  "orig_nbformat": 4,
  "vscode": {
   "interpreter": {
    "hash": "73421ca8a43c3064bb8f129d5d198c840735decb6cd4639d92aef2d61feb5cd6"
   }
  }
 },
 "nbformat": 4,
 "nbformat_minor": 2
}
