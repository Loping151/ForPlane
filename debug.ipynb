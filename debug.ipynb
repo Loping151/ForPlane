{
 "cells": [
  {
   "cell_type": "code",
   "execution_count": 7,
   "metadata": {},
   "outputs": [],
   "source": [
    "import torch\n",
    "from lpips import LPIPS\n",
    "import warnings\n",
    "warnings.filterwarnings(\"ignore\", category=UserWarning) \n",
    "\n",
    "lpips_alex = LPIPS(net='alex', verbose=False) # best forward scores\n",
    "lpips_vgg = LPIPS(net='vgg', verbose=False) # closer to \"traditional\" perceptual loss, when used for optimization\n"
   ]
  },
  {
   "cell_type": "code",
   "execution_count": 9,
   "metadata": {},
   "outputs": [
    {
     "name": "stderr",
     "output_type": "stream",
     "text": [
      "Lossy conversion from float64 to uint8. Range [-4.8368502086423515, 5.066040623875308]. Convert image to uint8 prior to saving to suppress this warning.\n",
      "Lossy conversion from float64 to uint8. Range [-4.8368502086423515, 5.066040623875308]. Convert image to uint8 prior to saving to suppress this warning.\n",
      "Lossy conversion from float64 to uint8. Range [-4.8368502086423515, 5.066040623875308]. Convert image to uint8 prior to saving to suppress this warning.\n",
      "Lossy conversion from float64 to uint8. Range [-4.8368502086423515, 5.066040623875308]. Convert image to uint8 prior to saving to suppress this warning.\n",
      "Lossy conversion from float64 to uint8. Range [-4.8368502086423515, 5.066040623875308]. Convert image to uint8 prior to saving to suppress this warning.\n",
      "Lossy conversion from float64 to uint8. Range [-4.8368502086423515, 5.066040623875308]. Convert image to uint8 prior to saving to suppress this warning.\n",
      "Lossy conversion from float64 to uint8. Range [-4.8368502086423515, 5.066040623875308]. Convert image to uint8 prior to saving to suppress this warning.\n",
      "Lossy conversion from float64 to uint8. Range [-4.8368502086423515, 5.066040623875308]. Convert image to uint8 prior to saving to suppress this warning.\n",
      "Lossy conversion from float64 to uint8. Range [-4.8368502086423515, 5.066040623875308]. Convert image to uint8 prior to saving to suppress this warning.\n",
      "Lossy conversion from float64 to uint8. Range [-4.8368502086423515, 5.066040623875308]. Convert image to uint8 prior to saving to suppress this warning.\n",
      "Lossy conversion from float64 to uint8. Range [-4.8368502086423515, 5.066040623875308]. Convert image to uint8 prior to saving to suppress this warning.\n",
      "Lossy conversion from float64 to uint8. Range [-4.8368502086423515, 5.066040623875308]. Convert image to uint8 prior to saving to suppress this warning.\n",
      "Lossy conversion from float64 to uint8. Range [-4.8368502086423515, 5.066040623875308]. Convert image to uint8 prior to saving to suppress this warning.\n",
      "Lossy conversion from float64 to uint8. Range [-4.8368502086423515, 5.066040623875308]. Convert image to uint8 prior to saving to suppress this warning.\n",
      "Lossy conversion from float64 to uint8. Range [-4.8368502086423515, 5.066040623875308]. Convert image to uint8 prior to saving to suppress this warning.\n",
      "Lossy conversion from float64 to uint8. Range [-4.8368502086423515, 5.066040623875308]. Convert image to uint8 prior to saving to suppress this warning.\n",
      "Lossy conversion from float64 to uint8. Range [-4.8368502086423515, 5.066040623875308]. Convert image to uint8 prior to saving to suppress this warning.\n",
      "Lossy conversion from float64 to uint8. Range [-4.8368502086423515, 5.066040623875308]. Convert image to uint8 prior to saving to suppress this warning.\n",
      "Lossy conversion from float64 to uint8. Range [-4.8368502086423515, 5.066040623875308]. Convert image to uint8 prior to saving to suppress this warning.\n",
      "Lossy conversion from float64 to uint8. Range [-4.8368502086423515, 5.066040623875308]. Convert image to uint8 prior to saving to suppress this warning.\n",
      "Lossy conversion from float64 to uint8. Range [-4.8368502086423515, 5.066040623875308]. Convert image to uint8 prior to saving to suppress this warning.\n",
      "Lossy conversion from float64 to uint8. Range [-4.8368502086423515, 5.066040623875308]. Convert image to uint8 prior to saving to suppress this warning.\n",
      "Lossy conversion from float64 to uint8. Range [-4.8368502086423515, 5.066040623875308]. Convert image to uint8 prior to saving to suppress this warning.\n",
      "Lossy conversion from float64 to uint8. Range [-4.8368502086423515, 5.066040623875308]. Convert image to uint8 prior to saving to suppress this warning.\n",
      "Lossy conversion from float64 to uint8. Range [-4.8368502086423515, 5.066040623875308]. Convert image to uint8 prior to saving to suppress this warning.\n",
      "Lossy conversion from float64 to uint8. Range [-4.8368502086423515, 5.066040623875308]. Convert image to uint8 prior to saving to suppress this warning.\n",
      "Lossy conversion from float64 to uint8. Range [-4.8368502086423515, 5.066040623875308]. Convert image to uint8 prior to saving to suppress this warning.\n",
      "Lossy conversion from float64 to uint8. Range [-4.8368502086423515, 5.066040623875308]. Convert image to uint8 prior to saving to suppress this warning.\n",
      "Lossy conversion from float64 to uint8. Range [-4.8368502086423515, 5.066040623875308]. Convert image to uint8 prior to saving to suppress this warning.\n",
      "Lossy conversion from float64 to uint8. Range [-4.8368502086423515, 5.066040623875308]. Convert image to uint8 prior to saving to suppress this warning.\n",
      "Lossy conversion from float64 to uint8. Range [-4.8368502086423515, 5.066040623875308]. Convert image to uint8 prior to saving to suppress this warning.\n",
      "Lossy conversion from float64 to uint8. Range [-4.8368502086423515, 5.066040623875308]. Convert image to uint8 prior to saving to suppress this warning.\n",
      "Lossy conversion from float64 to uint8. Range [-4.8368502086423515, 5.066040623875308]. Convert image to uint8 prior to saving to suppress this warning.\n",
      "Lossy conversion from float64 to uint8. Range [-4.8368502086423515, 5.066040623875308]. Convert image to uint8 prior to saving to suppress this warning.\n",
      "Lossy conversion from float64 to uint8. Range [-4.8368502086423515, 5.066040623875308]. Convert image to uint8 prior to saving to suppress this warning.\n",
      "Lossy conversion from float64 to uint8. Range [-4.8368502086423515, 5.066040623875308]. Convert image to uint8 prior to saving to suppress this warning.\n",
      "Lossy conversion from float64 to uint8. Range [-4.8368502086423515, 5.066040623875308]. Convert image to uint8 prior to saving to suppress this warning.\n",
      "Lossy conversion from float64 to uint8. Range [-4.8368502086423515, 5.066040623875308]. Convert image to uint8 prior to saving to suppress this warning.\n",
      "Lossy conversion from float64 to uint8. Range [-4.8368502086423515, 5.066040623875308]. Convert image to uint8 prior to saving to suppress this warning.\n",
      "Lossy conversion from float64 to uint8. Range [-4.8368502086423515, 5.066040623875308]. Convert image to uint8 prior to saving to suppress this warning.\n",
      "Lossy conversion from float64 to uint8. Range [-4.8368502086423515, 5.066040623875308]. Convert image to uint8 prior to saving to suppress this warning.\n",
      "Lossy conversion from float64 to uint8. Range [-4.8368502086423515, 5.066040623875308]. Convert image to uint8 prior to saving to suppress this warning.\n",
      "Lossy conversion from float64 to uint8. Range [-4.8368502086423515, 5.066040623875308]. Convert image to uint8 prior to saving to suppress this warning.\n",
      "Lossy conversion from float64 to uint8. Range [-4.8368502086423515, 5.066040623875308]. Convert image to uint8 prior to saving to suppress this warning.\n",
      "Lossy conversion from float64 to uint8. Range [-4.8368502086423515, 5.066040623875308]. Convert image to uint8 prior to saving to suppress this warning.\n",
      "Lossy conversion from float64 to uint8. Range [-4.8368502086423515, 5.066040623875308]. Convert image to uint8 prior to saving to suppress this warning.\n",
      "Lossy conversion from float64 to uint8. Range [-4.8368502086423515, 5.066040623875308]. Convert image to uint8 prior to saving to suppress this warning.\n",
      "Lossy conversion from float64 to uint8. Range [-4.8368502086423515, 5.066040623875308]. Convert image to uint8 prior to saving to suppress this warning.\n",
      "Lossy conversion from float64 to uint8. Range [-4.8368502086423515, 5.066040623875308]. Convert image to uint8 prior to saving to suppress this warning.\n",
      "Lossy conversion from float64 to uint8. Range [-4.8368502086423515, 5.066040623875308]. Convert image to uint8 prior to saving to suppress this warning.\n",
      "Lossy conversion from float64 to uint8. Range [-4.8368502086423515, 5.066040623875308]. Convert image to uint8 prior to saving to suppress this warning.\n",
      "Lossy conversion from float64 to uint8. Range [-4.8368502086423515, 5.066040623875308]. Convert image to uint8 prior to saving to suppress this warning.\n",
      "Lossy conversion from float64 to uint8. Range [-4.8368502086423515, 5.066040623875308]. Convert image to uint8 prior to saving to suppress this warning.\n",
      "Lossy conversion from float64 to uint8. Range [-4.8368502086423515, 5.066040623875308]. Convert image to uint8 prior to saving to suppress this warning.\n",
      "Lossy conversion from float64 to uint8. Range [-4.8368502086423515, 5.066040623875308]. Convert image to uint8 prior to saving to suppress this warning.\n",
      "Lossy conversion from float64 to uint8. Range [-4.8368502086423515, 5.066040623875308]. Convert image to uint8 prior to saving to suppress this warning.\n",
      "Lossy conversion from float64 to uint8. Range [-4.8368502086423515, 5.066040623875308]. Convert image to uint8 prior to saving to suppress this warning.\n",
      "Lossy conversion from float64 to uint8. Range [-4.8368502086423515, 5.066040623875308]. Convert image to uint8 prior to saving to suppress this warning.\n",
      "Lossy conversion from float64 to uint8. Range [-4.8368502086423515, 5.066040623875308]. Convert image to uint8 prior to saving to suppress this warning.\n",
      "Lossy conversion from float64 to uint8. Range [-4.8368502086423515, 5.066040623875308]. Convert image to uint8 prior to saving to suppress this warning.\n",
      "Lossy conversion from float64 to uint8. Range [-4.8368502086423515, 5.066040623875308]. Convert image to uint8 prior to saving to suppress this warning.\n",
      "Lossy conversion from float64 to uint8. Range [-4.8368502086423515, 5.066040623875308]. Convert image to uint8 prior to saving to suppress this warning.\n",
      "Lossy conversion from float64 to uint8. Range [-4.8368502086423515, 5.066040623875308]. Convert image to uint8 prior to saving to suppress this warning.\n",
      "Lossy conversion from float64 to uint8. Range [-4.8368502086423515, 5.066040623875308]. Convert image to uint8 prior to saving to suppress this warning.\n",
      "Lossy conversion from float64 to uint8. Range [-4.8368502086423515, 5.066040623875308]. Convert image to uint8 prior to saving to suppress this warning.\n",
      "Lossy conversion from float64 to uint8. Range [-4.8368502086423515, 5.066040623875308]. Convert image to uint8 prior to saving to suppress this warning.\n",
      "Lossy conversion from float64 to uint8. Range [-4.8368502086423515, 5.066040623875308]. Convert image to uint8 prior to saving to suppress this warning.\n",
      "Lossy conversion from float64 to uint8. Range [-4.8368502086423515, 5.066040623875308]. Convert image to uint8 prior to saving to suppress this warning.\n",
      "Lossy conversion from float64 to uint8. Range [-4.8368502086423515, 5.066040623875308]. Convert image to uint8 prior to saving to suppress this warning.\n",
      "Lossy conversion from float64 to uint8. Range [-4.8368502086423515, 5.066040623875308]. Convert image to uint8 prior to saving to suppress this warning.\n",
      "Lossy conversion from float64 to uint8. Range [-4.8368502086423515, 5.066040623875308]. Convert image to uint8 prior to saving to suppress this warning.\n",
      "Lossy conversion from float64 to uint8. Range [-4.8368502086423515, 5.066040623875308]. Convert image to uint8 prior to saving to suppress this warning.\n",
      "Lossy conversion from float64 to uint8. Range [-4.8368502086423515, 5.066040623875308]. Convert image to uint8 prior to saving to suppress this warning.\n",
      "Lossy conversion from float64 to uint8. Range [-4.8368502086423515, 5.066040623875308]. Convert image to uint8 prior to saving to suppress this warning.\n",
      "Lossy conversion from float64 to uint8. Range [-4.8368502086423515, 5.066040623875308]. Convert image to uint8 prior to saving to suppress this warning.\n",
      "Lossy conversion from float64 to uint8. Range [-4.8368502086423515, 5.066040623875308]. Convert image to uint8 prior to saving to suppress this warning.\n",
      "Lossy conversion from float64 to uint8. Range [-4.8368502086423515, 5.066040623875308]. Convert image to uint8 prior to saving to suppress this warning.\n",
      "Lossy conversion from float64 to uint8. Range [-4.8368502086423515, 5.066040623875308]. Convert image to uint8 prior to saving to suppress this warning.\n",
      "Lossy conversion from float64 to uint8. Range [-4.8368502086423515, 5.066040623875308]. Convert image to uint8 prior to saving to suppress this warning.\n",
      "Lossy conversion from float64 to uint8. Range [-4.8368502086423515, 5.066040623875308]. Convert image to uint8 prior to saving to suppress this warning.\n",
      "Lossy conversion from float64 to uint8. Range [-4.8368502086423515, 5.066040623875308]. Convert image to uint8 prior to saving to suppress this warning.\n",
      "Lossy conversion from float64 to uint8. Range [-4.8368502086423515, 5.066040623875308]. Convert image to uint8 prior to saving to suppress this warning.\n",
      "Lossy conversion from float64 to uint8. Range [-4.8368502086423515, 5.066040623875308]. Convert image to uint8 prior to saving to suppress this warning.\n",
      "Lossy conversion from float64 to uint8. Range [-4.8368502086423515, 5.066040623875308]. Convert image to uint8 prior to saving to suppress this warning.\n",
      "Lossy conversion from float64 to uint8. Range [-4.8368502086423515, 5.066040623875308]. Convert image to uint8 prior to saving to suppress this warning.\n",
      "Lossy conversion from float64 to uint8. Range [-4.8368502086423515, 5.066040623875308]. Convert image to uint8 prior to saving to suppress this warning.\n",
      "Lossy conversion from float64 to uint8. Range [-4.8368502086423515, 5.066040623875308]. Convert image to uint8 prior to saving to suppress this warning.\n",
      "Lossy conversion from float64 to uint8. Range [-4.8368502086423515, 5.066040623875308]. Convert image to uint8 prior to saving to suppress this warning.\n",
      "Lossy conversion from float64 to uint8. Range [-4.8368502086423515, 5.066040623875308]. Convert image to uint8 prior to saving to suppress this warning.\n",
      "Lossy conversion from float64 to uint8. Range [-4.8368502086423515, 5.066040623875308]. Convert image to uint8 prior to saving to suppress this warning.\n",
      "Lossy conversion from float64 to uint8. Range [-4.8368502086423515, 5.066040623875308]. Convert image to uint8 prior to saving to suppress this warning.\n",
      "Lossy conversion from float64 to uint8. Range [-4.8368502086423515, 5.066040623875308]. Convert image to uint8 prior to saving to suppress this warning.\n",
      "Lossy conversion from float64 to uint8. Range [-4.8368502086423515, 5.066040623875308]. Convert image to uint8 prior to saving to suppress this warning.\n",
      "Lossy conversion from float64 to uint8. Range [-4.8368502086423515, 5.066040623875308]. Convert image to uint8 prior to saving to suppress this warning.\n",
      "Lossy conversion from float64 to uint8. Range [-4.8368502086423515, 5.066040623875308]. Convert image to uint8 prior to saving to suppress this warning.\n",
      "Lossy conversion from float64 to uint8. Range [-4.8368502086423515, 5.066040623875308]. Convert image to uint8 prior to saving to suppress this warning.\n",
      "Lossy conversion from float64 to uint8. Range [-4.8368502086423515, 5.066040623875308]. Convert image to uint8 prior to saving to suppress this warning.\n",
      "Lossy conversion from float64 to uint8. Range [-4.8368502086423515, 5.066040623875308]. Convert image to uint8 prior to saving to suppress this warning.\n",
      "Lossy conversion from float64 to uint8. Range [-4.8368502086423515, 5.066040623875308]. Convert image to uint8 prior to saving to suppress this warning.\n",
      "Lossy conversion from float64 to uint8. Range [-4.8368502086423515, 5.066040623875308]. Convert image to uint8 prior to saving to suppress this warning.\n"
     ]
    },
    {
     "name": "stdout",
     "output_type": "stream",
     "text": [
      "5.669831275939941\n"
     ]
    }
   ],
   "source": [
    "import cv2\n",
    "import imageio\n",
    "import numpy as np\n",
    "import time\n",
    "tmp = np.random.randn(512,640,3)\n",
    "tmp = (tmp-np.min(tmp))/np.max(tmp)\n",
    "st = time.time()\n",
    "for _ in range(100):\n",
    "    imageio.imwrite('tmp.png',tmp)\n",
    "print(time.time()-st)"
   ]
  },
  {
   "cell_type": "code",
   "execution_count": 4,
   "metadata": {},
   "outputs": [],
   "source": [
    "import torch\n",
    "a = torch.randn([1000,1000, 3]).float().cuda()\n",
    "b = torch.randn([1000,1000,3]).float().cuda()"
   ]
  },
  {
   "cell_type": "code",
   "execution_count": 5,
   "metadata": {},
   "outputs": [
    {
     "data": {
      "text/plain": [
       "0.4819173812866211"
      ]
     },
     "execution_count": 5,
     "metadata": {},
     "output_type": "execute_result"
    }
   ],
   "source": [
    "import time\n",
    "\n",
    "t0 = time.time()\n",
    "torch.cuda.synchronize()\n",
    "for i in range(10000):\n",
    "    _ = a*b\n",
    "torch.cuda.synchronize()\n",
    "t1 = time.time()\n",
    "t1-t0"
   ]
  },
  {
   "cell_type": "code",
   "execution_count": 7,
   "metadata": {},
   "outputs": [
    {
     "data": {
      "text/plain": [
       "0.44594645500183105"
      ]
     },
     "execution_count": 7,
     "metadata": {},
     "output_type": "execute_result"
    }
   ],
   "source": [
    "t0 = time.time()\n",
    "torch.cuda.synchronize()\n",
    "for i in range(10000):\n",
    "    _ = torch.mul(a, b)\n",
    "torch.cuda.synchronize()\n",
    "t1 = time.time()\n",
    "t1-t0"
   ]
  },
  {
   "cell_type": "code",
   "execution_count": null,
   "metadata": {},
   "outputs": [],
   "source": [
    "t0 = time.time()\n",
    "torch.cuda.synchronize()\n",
    "for i in range(10000):\n",
    "    temp = torch.empty_like(a)\n",
    "torch.cuda.synchronize()\n",
    "t1 = time.time()\n",
    "t1-t0"
   ]
  },
  {
   "cell_type": "code",
   "execution_count": 50,
   "metadata": {},
   "outputs": [
    {
     "name": "stdout",
     "output_type": "stream",
     "text": [
      "305 matrix multiplications took 4.077495098114014s\n"
     ]
    }
   ],
   "source": [
    "import time\n",
    "import torch\n",
    "from torch.profiler import profile, record_function, ProfilerActivity\n",
    "\n",
    "# 随机生成两个大矩阵\n",
    "matrix_1 = torch.randn(2048, 2048, dtype=torch.float32)  \n",
    "matrix_2 = torch.randn(2048, 2048, dtype=torch.float32)  \n",
    "\n",
    "# 将矩阵移至GPU   \n",
    "matrix_1 = matrix_1.cuda()\n",
    "matrix_2 = matrix_2.cuda()\n",
    "\n",
    "# 初始化计时器\n",
    "start = time.time()  \n",
    "\n",
    "# 执行305次矩阵乘法 \n",
    "# with profile(activities=[ProfilerActivity.CPU, ProfilerActivity.CUDA]) as prof:\n",
    "for i in range(3170):\n",
    "    result = torch.matmul(matrix_1, matrix_2)\n",
    "\n",
    "# 结束计时并打印时间  \n",
    "end = time.time()  \n",
    "print(f\"305 matrix multiplications took {end - start}s\")\n",
    "# print(prof.key_averages(group_by_stack_n=8).table(sort_by=\"self_cuda_time_total\", row_limit=20,max_name_column_width=1000))"
   ]
  }
 ],
 "metadata": {
  "kernelspec": {
   "display_name": "ngp",
   "language": "python",
   "name": "python3"
  },
  "language_info": {
   "codemirror_mode": {
    "name": "ipython",
    "version": 3
   },
   "file_extension": ".py",
   "mimetype": "text/x-python",
   "name": "python",
   "nbconvert_exporter": "python",
   "pygments_lexer": "ipython3",
   "version": "3.10.6"
  },
  "orig_nbformat": 4,
  "vscode": {
   "interpreter": {
    "hash": "73421ca8a43c3064bb8f129d5d198c840735decb6cd4639d92aef2d61feb5cd6"
   }
  }
 },
 "nbformat": 4,
 "nbformat_minor": 2
}
