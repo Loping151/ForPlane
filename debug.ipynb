{
 "cells": [
  {
   "cell_type": "code",
   "execution_count": 7,
   "metadata": {},
   "outputs": [],
   "source": [
    "import torch\n",
    "from lpips import LPIPS\n",
    "import warnings\n",
    "warnings.filterwarnings(\"ignore\", category=UserWarning) \n",
    "\n",
    "lpips_alex = LPIPS(net='alex', verbose=False) # best forward scores\n",
    "lpips_vgg = LPIPS(net='vgg', verbose=False) # closer to \"traditional\" perceptual loss, when used for optimization\n"
   ]
  },
  {
   "cell_type": "code",
   "execution_count": null,
   "metadata": {},
   "outputs": [],
   "source": []
  }
 ],
 "metadata": {
  "kernelspec": {
   "display_name": "ngp",
   "language": "python",
   "name": "python3"
  },
  "language_info": {
   "codemirror_mode": {
    "name": "ipython",
    "version": 3
   },
   "file_extension": ".py",
   "mimetype": "text/x-python",
   "name": "python",
   "nbconvert_exporter": "python",
   "pygments_lexer": "ipython3",
   "version": "3.10.6"
  },
  "orig_nbformat": 4,
  "vscode": {
   "interpreter": {
    "hash": "73421ca8a43c3064bb8f129d5d198c840735decb6cd4639d92aef2d61feb5cd6"
   }
  }
 },
 "nbformat": 4,
 "nbformat_minor": 2
}
